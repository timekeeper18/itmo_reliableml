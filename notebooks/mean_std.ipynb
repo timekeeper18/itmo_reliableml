{
 "cells": [
  {
   "cell_type": "code",
   "execution_count": 1,
   "id": "cd3785bc",
   "metadata": {},
   "outputs": [],
   "source": [
    "import os\n",
    "import torch\n",
    "import torch.nn as nn\n",
    "import torch.nn.functional as F\n",
    "import cv2\n",
    "import numpy as np\n",
    "import matplotlib.pyplot as plt\n",
    "from torchvision.io import ImageReadMode, read_image\n",
    "import copy\n",
    "from PIL import Image"
   ]
  },
  {
   "cell_type": "code",
   "execution_count": 2,
   "id": "ce540f50",
   "metadata": {},
   "outputs": [],
   "source": [
    "path = \"ML_System_Design/Clear_Datasets/dentasis_v30_5_Dental_disease_detection_Occlus_v0-v0/train/images/\"\n",
    "\n",
    "images_list = os.listdir(path)"
   ]
  },
  {
   "cell_type": "markdown",
   "id": "c0d6c2f3",
   "metadata": {},
   "source": [
    "Посчитаем среднее и дисперси на трейне нашего датасета. Фото зубов и рта это не тоже самое, что Imagenet, должны быть отличия. \n",
    "Попробуем обучить модель применяя среднее и дисперсию посчитанную именно для фото рта и зубов."
   ]
  },
  {
   "cell_type": "code",
   "execution_count": 4,
   "id": "5e497c97",
   "metadata": {},
   "outputs": [],
   "source": [
    "rgb_values = np.concatenate(\n",
    "    [Image.open(path+ img).getdata() for img in images_list], \n",
    "    axis=0\n",
    ") / 255.\n",
    "\n",
    "\n",
    "mu_rgb = np.mean(rgb_values, axis=0) \n",
    "std_rgb = np.std(rgb_values, axis=0) "
   ]
  },
  {
   "cell_type": "code",
   "execution_count": 5,
   "id": "aeb8a6f8",
   "metadata": {},
   "outputs": [
    {
     "name": "stdout",
     "output_type": "stream",
     "text": [
      "[0.62094075 0.43101861 0.40152089]\n",
      "[0.21630376 0.2162745  0.20568197]\n"
     ]
    }
   ],
   "source": [
    "print(mu_rgb)\n",
    "print(std_rgb)"
   ]
  },
  {
   "cell_type": "code",
   "execution_count": null,
   "id": "4a8d205b",
   "metadata": {},
   "outputs": [],
   "source": [
    "IMAGENET_MEAN = 0.485, 0.456, 0.406  # RGB mean\n",
    "IMAGENET_STD = 0.229, 0.224, 0.225  # RGB standard deviation"
   ]
  },
  {
   "cell_type": "markdown",
   "id": "2f5fc8c5",
   "metadata": {},
   "source": [
    "Видим, что по сравнению с imagenet на нашх фото больше красного в первом канале. Это ожидаемо, так как у нас фото рта."
   ]
  }
 ],
 "metadata": {
  "kernelspec": {
   "display_name": "Python 3 (ipykernel)",
   "language": "python",
   "name": "python3"
  },
  "language_info": {
   "codemirror_mode": {
    "name": "ipython",
    "version": 3
   },
   "file_extension": ".py",
   "mimetype": "text/x-python",
   "name": "python",
   "nbconvert_exporter": "python",
   "pygments_lexer": "ipython3",
   "version": "3.11.4"
  }
 },
 "nbformat": 4,
 "nbformat_minor": 5
}
