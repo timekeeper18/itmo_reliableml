{
 "cells": [
  {
   "cell_type": "code",
   "execution_count": 1,
   "id": "af791b55",
   "metadata": {},
   "outputs": [],
   "source": [
    "import os\n",
    "import wandb\n",
    "import numpy as np\n",
    "import matplotlib.pyplot as plt\n",
    "import matplotlib.patches as patches\n",
    "from PIL import Image\n",
    "import cv2\n",
    "import shutil"
   ]
  },
  {
   "cell_type": "code",
   "execution_count": 2,
   "id": "723fb243",
   "metadata": {},
   "outputs": [],
   "source": [
    "# Функция для объединения фото с таргетами и фото с результатами вывода модели.\n",
    "def concat_images_h(image1, image2, path_1, path_2, path_to_save):\n",
    "    image_1 = Image.open(path_1 + image1)\n",
    "    image_2 = Image.open(path_2 + image2)\n",
    "    concatenated_images = Image.new('RGB', (image_1.width + image_2.width, image_1.height))\n",
    "    concatenated_images.paste(image_1, (0, 0))\n",
    "    concatenated_images.paste(image_2, (image_1.width, 0))\n",
    "    \n",
    "    concatenated_images.save(path_to_save + image1)\n",
    "    return concatenated_images"
   ]
  },
  {
   "cell_type": "code",
   "execution_count": 5,
   "id": "8bd68ee3",
   "metadata": {},
   "outputs": [],
   "source": [
    "# Пути к изображениям с боксами (таргеты и выходы модели).\n",
    "\n",
    "path_to_img_target = \"ML_System_Design/out_test_Dentasis_v30_2/\"\n",
    "\n",
    "target_images_list = os.listdir(path_to_img_target)\n",
    "\n",
    "path_to_img_output = \"ML_System_Design/exp8-20231105T135626Z-001/exp8/images/\"\n",
    "\n",
    "output_images_list = os.listdir(path_to_img_output)\n",
    "\n",
    "path_to_save = \"Concat_examples/Dentasis_v30_2_exp8/\""
   ]
  },
  {
   "cell_type": "code",
   "execution_count": 6,
   "id": "6965fce1",
   "metadata": {},
   "outputs": [],
   "source": [
    "for img in target_images_list:\n",
    "    concat_images_h(img, img, path_to_img_target, path_to_img_output, path_to_save)\n",
    "    "
   ]
  }
 ],
 "metadata": {
  "kernelspec": {
   "display_name": "Python 3 (ipykernel)",
   "language": "python",
   "name": "python3"
  },
  "language_info": {
   "codemirror_mode": {
    "name": "ipython",
    "version": 3
   },
   "file_extension": ".py",
   "mimetype": "text/x-python",
   "name": "python",
   "nbconvert_exporter": "python",
   "pygments_lexer": "ipython3",
   "version": "3.11.4"
  }
 },
 "nbformat": 4,
 "nbformat_minor": 5
}
