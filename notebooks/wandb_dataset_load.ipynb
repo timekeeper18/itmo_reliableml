{
 "cells": [
  {
   "cell_type": "code",
   "execution_count": 7,
   "id": "af791b55",
   "metadata": {},
   "outputs": [],
   "source": [
    "import os\n",
    "import wandb"
   ]
  },
  {
   "cell_type": "code",
   "execution_count": 8,
   "id": "422e71fa",
   "metadata": {},
   "outputs": [
    {
     "data": {
      "text/plain": [
       "True"
      ]
     },
     "execution_count": 8,
     "metadata": {},
     "output_type": "execute_result"
    }
   ],
   "source": [
    "wandb.login()"
   ]
  },
  {
   "cell_type": "code",
   "execution_count": null,
   "id": "27271eca",
   "metadata": {
    "scrolled": true
   },
   "outputs": [],
   "source": [
    "run = wandb.init(\n",
    "    entity=\"dentist_ai\",\n",
    "    project=\"Dentist_AI\")\n",
    "\n",
    "path_to_data = \"../data/dentasis_v32i_Caries_v0-v0\"\n",
    "\n",
    "if os.path.isdir(path_to_data):\n",
    "    artifact_dir = path_to_data + \"dentasis_v32i_Caries_v0-v0\"\n",
    "else:\n",
    "    artifact = run.use_artifact(\"dentist_ai/Dentist_AI/dentasis_v32i_Caries_v0:v0\", type=\"dataset\")\n",
    "    artifact_dir = artifact.download(path_to_data)   "
   ]
  },
  {
   "cell_type": "code",
   "execution_count": 10,
   "id": "db30231e",
   "metadata": {},
   "outputs": [
    {
     "data": {
      "text/html": [
       "Waiting for W&B process to finish... <strong style=\"color:green\">(success).</strong>"
      ],
      "text/plain": [
       "<IPython.core.display.HTML object>"
      ]
     },
     "metadata": {},
     "output_type": "display_data"
    },
    {
     "data": {
      "text/html": [
       " View run <strong style=\"color:#cdcd00\">eager-smoke-13</strong> at: <a href='https://wandb.ai/dentist_ai/Dentist_AI/runs/fwf7w99p' target=\"_blank\">https://wandb.ai/dentist_ai/Dentist_AI/runs/fwf7w99p</a><br/>Synced 6 W&B file(s), 0 media file(s), 0 artifact file(s) and 0 other file(s)"
      ],
      "text/plain": [
       "<IPython.core.display.HTML object>"
      ]
     },
     "metadata": {},
     "output_type": "display_data"
    },
    {
     "data": {
      "text/html": [
       "Find logs at: <code>.\\wandb\\run-20230925_133815-fwf7w99p\\logs</code>"
      ],
      "text/plain": [
       "<IPython.core.display.HTML object>"
      ]
     },
     "metadata": {},
     "output_type": "display_data"
    }
   ],
   "source": [
    "wandb.finish()"
   ]
  },
  {
   "cell_type": "code",
   "execution_count": null,
   "id": "8b45f3c8",
   "metadata": {},
   "outputs": [],
   "source": []
  }
 ],
 "metadata": {
  "kernelspec": {
   "display_name": "Python 3 (ipykernel)",
   "language": "python",
   "name": "python3"
  },
  "language_info": {
   "codemirror_mode": {
    "name": "ipython",
    "version": 3
   },
   "file_extension": ".py",
   "mimetype": "text/x-python",
   "name": "python",
   "nbconvert_exporter": "python",
   "pygments_lexer": "ipython3",
   "version": "3.11.4"
  }
 },
 "nbformat": 4,
 "nbformat_minor": 5
}
